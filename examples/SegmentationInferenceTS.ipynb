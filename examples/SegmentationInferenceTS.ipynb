{
    "cells": [
        {
            "cell_type": "markdown",
            "metadata": {},
            "source": [
                "# Auto-Segmentation Inference using TotalSegmentator\n",
                "\n",
                "This example demonstrates how to apply the TotalSegmentator open-source model to our data that has been prepared using PyDicer."
            ]
        },
        {
            "cell_type": "code",
            "execution_count": null,
            "metadata": {},
            "outputs": [],
            "source": [
                "try:\n",
                "    from pydicer import PyDicer\n",
                "except ImportError:\n",
                "    ! pip install pydicer TotalSegmentator\n",
                "    from pydicer import PyDicer\n",
                "\n",
                "\n",
                "from pydicer.utils import fetch_converted_test_data\n",
                "\n",
                "from pydicer.generate.segmentation import read_all_segmentation_logs\n",
                "from pydicer.generate.models import run_total_segmentator\n",
                "\n",
                "from pydicer.analyse.compare import (\n",
                "    compute_contour_similarity_metrics,\n",
                "    get_all_similarity_metrics_for_dataset,\n",
                ")"
            ]
        },
        {
            "cell_type": "markdown",
            "metadata": {},
            "source": [
                "## Setup PyDicer\n",
                "\n",
                "For this example, we will use the LCTSC test data which has already been converted using PyDicer.\n",
                "We also initialise our PyDicer object. We also prepare a subset of this data to only run the segmentation\n",
                "on one CT image per patient."
            ]
        },
        {
            "cell_type": "code",
            "execution_count": null,
            "metadata": {},
            "outputs": [],
            "source": [
                "working_directory = fetch_converted_test_data(\"./testdata_hnscc\", dataset=\"HNSCC\")\n",
                "pydicer = PyDicer(working_directory)\n",
                "\n",
                "dataset_name = \"totalset\"\n",
                "pydicer.dataset.prepare(\"totalset\", \"rt_latest_struct\")"
            ]
        },
        {
            "cell_type": "markdown",
            "metadata": {},
            "source": [
                "## Run Auto-segmentation\n",
                "\n",
                "The [segment_dataset](https://australiancancerdatanetwork.github.io/pydicer/generate.html#pydicer.generate.segmentation.segment_dataset) function will run over all images in our dataset and will pass the images to\n",
                "a function we define for segmentation. We pass in the name of our `validation_dataset` so that only\n",
                "the images in this dataset will be segmented."
            ]
        },
        {
            "cell_type": "code",
            "execution_count": null,
            "metadata": {},
            "outputs": [],
            "source": [
                "segment_id = \"totalseg\" # Used to generate the ID of the resulting auto-segmented structure sets\n",
                "\n",
                "pydicer.segment_dataset(segment_id, run_total_segmentator, dataset_name=dataset_name)"
            ]
        },
        {
            "cell_type": "markdown",
            "metadata": {},
            "source": [
                "We can use PyDicer's [visualisation module](https://australiancancerdatanetwork.github.io/pydicer/_examples/VisualiseData.html) to produce snapshots of the auto-segmentations produced."
            ]
        },
        {
            "cell_type": "code",
            "execution_count": null,
            "metadata": {},
            "outputs": [],
            "source": [
                "pydicer.visualise.visualise()"
            ]
        },
        {
            "cell_type": "markdown",
            "metadata": {},
            "source": [
                "## Read Segmentation Logs\n",
                "\n",
                "After running the auto-segmentation on across the dataset, we can fetch the logs to confirm that\n",
                "everything went well using the [read_all_segmentation_logs](https://australiancancerdatanetwork.github.io/pydicer/generate.html#pydicer.generate.segmentation.read_all_segmentation_logs) function.\n",
                "This will also let us inspect the runtime of the segmentation. In case something went wrong, we can\n",
                "use these logs to help debug the issue."
            ]
        },
        {
            "cell_type": "code",
            "execution_count": null,
            "metadata": {},
            "outputs": [],
            "source": [
                "# Read the segmentation log DataFrame\n",
                "df_logs = read_all_segmentation_logs(working_directory)\n",
                "df_logs"
            ]
        },
        {
            "cell_type": "code",
            "execution_count": null,
            "metadata": {},
            "outputs": [],
            "source": [
                "# Use some Pandas magic to produce some stats on the segmentation runtime\n",
                "df_success = df_logs[df_logs.success_flag]\n",
                "agg_stats = [\"mean\", \"std\", \"max\", \"min\", \"count\"]\n",
                "df_success[[\"segment_id\", \"total_time_seconds\"]].groupby(\"segment_id\").agg(agg_stats)"
            ]
        },
        {
            "cell_type": "markdown",
            "metadata": {},
            "source": [
                "## Auto-segmentation Analysis\n",
                "\n",
                "Now that our auto-segmentation model has been run, we can compare these\n",
                "structures to the manual structures available on this dataset. PyDicer provides functionality to\n",
                "compute similarity metrics, but we must first prepare a DataFrame containing our auto structure\n",
                "sets (`df_target`) and a separate DataFrame with our manual structure sets (`df_reference`)."
            ]
        },
        {
            "cell_type": "code",
            "execution_count": null,
            "metadata": {},
            "outputs": [],
            "source": [
                "df = pydicer.read_converted_data(dataset_name=dataset_name)\n",
                "df_structs = df[df.modality==\"RTSTRUCT\"]\n",
                "\n",
                "df_reference = df_structs[~df_structs.hashed_uid.str.startswith(\"totalseg_\")]\n",
                "df_target = df_structs[df_structs.hashed_uid.str.startswith(\"totalseg_\")]"
            ]
        },
        {
            "cell_type": "code",
            "execution_count": null,
            "metadata": {},
            "outputs": [],
            "source": [
                "df_reference"
            ]
        },
        {
            "cell_type": "code",
            "execution_count": null,
            "metadata": {},
            "outputs": [],
            "source": [
                "df_target"
            ]
        },
        {
            "cell_type": "markdown",
            "metadata": {},
            "source": [
                "### Compute Similarity \n",
                "\n",
                "We use the [compute_contour_similarity_metrics](https://australiancancerdatanetwork.github.io/pydicer/analyse.html#pydicer.analyse.compare.compute_contour_similarity_metrics) function to compute the metrics comparing our\n",
                "target structures to our reference structures.\n",
                "\n",
                "We can specify which metrics we want to compute, in this example we compute the Dice Similarity\n",
                "Coefficient (DSC), Hausdorff Distance, Mean Surface Distance and the Surface DSC.\n",
                "\n",
                "> Structure names must match exactly, so we use a [structure name mapping](https://australiancancerdatanetwork.github.io/pydicer/_examples/WorkingWithStructures.html#Add-Structure-Name-Mapping) to standardise our\n",
                "> structure names prior to computing the similarity metrics."
            ]
        },
        {
            "cell_type": "code",
            "execution_count": null,
            "metadata": {},
            "outputs": [],
            "source": [
                "# Add our structure name mapping\n",
                "mapping_id = \"totalseg_hn\"\n",
                "mapping = {\n",
                "    \"SpinalCord\": [\"spinal_cord\", \"cord\", \"Cord\"],\n",
                "}\n",
                "pydicer.add_structure_name_mapping(mapping, mapping_id)\n",
                "\n",
                "# Specify the metrics we want to compute\n",
                "compute_metrics = [\"DSC\", \"hausdorffDistance\", \"meanSurfaceDistance\", \"surfaceDSC\"]\n",
                "\n",
                "# Compute the similarity metrics\n",
                "compute_contour_similarity_metrics(\n",
                "    df_target,\n",
                "    df_reference,\n",
                "    segment_id,\n",
                "    compute_metrics=compute_metrics,\n",
                "    mapping_id=mapping_id\n",
                ")"
            ]
        },
        {
            "cell_type": "markdown",
            "metadata": {},
            "source": [
                "### Fetch the similarity metrics\n",
                "\n",
                "Here we fetch the metrics computed and output some stats. Note that if a segmentation fails, \n",
                "surface metrics will return NaN and will be excluded from these stats."
            ]
        },
        {
            "cell_type": "code",
            "execution_count": null,
            "metadata": {},
            "outputs": [],
            "source": [
                "# Fetch the similarity metrics\n",
                "df_metrics = get_all_similarity_metrics_for_dataset(\n",
                "    working_directory,\n",
                "    dataset_name=dataset_name,\n",
                "    structure_mapping_id=mapping_id\n",
                ")\n",
                "\n",
                "# Aggregate the stats using Pandas\n",
                "df_metrics[\n",
                "    [\"segment_id\", \"structure\", \"metric\", \"value\"]\n",
                "    ].groupby(\n",
                "        [\"segment_id\", \"structure\", \"metric\"]\n",
                "    ).agg(\n",
                "        [\"mean\", \"std\", \"min\", \"max\", \"count\"]\n",
                "    )\n"
            ]
        },
        {
            "cell_type": "code",
            "execution_count": null,
            "metadata": {},
            "outputs": [],
            "source": []
        }
    ],
    "metadata": {
        "kernelspec": {
            "display_name": "pydicer",
            "language": "python",
            "name": "python3"
        },
        "language_info": {
            "codemirror_mode": {
                "name": "ipython",
                "version": 3
            },
            "file_extension": ".py",
            "mimetype": "text/x-python",
            "name": "python",
            "nbconvert_exporter": "python",
            "pygments_lexer": "ipython3",
            "version": "3.9.16"
        },
        "orig_nbformat": 4
    },
    "nbformat": 4,
    "nbformat_minor": 2
}
